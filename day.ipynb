{
 "metadata": {
  "name": "Day1"
 }, 
 "nbformat": 2, 
 "worksheets": [
  {
   "cells": [
    {
     "cell_type": "markdown", 
     "source": [
      "", 
      "The Robber's Language", 
      "----------------------", 
      "Write a function translate() that will translate a text into \"r\u00f6varspr\u00e5ket\" (Swedish for \"robber's language\"). That is, double every consonant and place an occurrence of \"o\" in between. For example, translate(\"this is fun\") should return the string \"tothohisos isos fofunon\". (You will need the \"in\" keyword for this exercise, which was not covered in the talks. In iPython type the following statements. Infer what \"in\" does and then use it as necessary in this program.", 
      "", 
      "'a' in 'string'", 
      "'i' in 'string'"
     ]
    }, 
    {
     "cell_type": "code", 
     "collapsed": false, 
     "input": [
      "from datetime import datetime", 
      "", 
      "d=1", 
      "e=3434456", 
      "", 
      "startTime = datetime.now()", 
      "f=d+e", 
      "", 
      "print(datetime.now()-startTime)"
     ], 
     "language": "python", 
     "outputs": [], 
     "prompt_number": 9
    }, 
    {
     "cell_type": "markdown", 
     "source": [
      "Timing the Code", 
      "---------------", 
      "Write a function called time_checker() which accepts another function and an integer as input. The function must run the code that integer number of times and return the mean time taken by the supplied function to execute. Then design some function of your choice which does an arithmetic operation, measure the time taken. Can you further compare the mean time taken for adding two numbers vs multiplying two numbers? (You will need a module called \"time\" for this exercise.)"
     ]
    }, 
    {
     "cell_type": "code", 
     "collapsed": false, 
     "input": [
      "", 
      "def translate(inword):", 
      "    cons = 'bcdfghjklmnpqrstvwxzBCDGHJKLMNPQRSTVWXZ'", 
      "    inword = list(inword)", 
      "    for s in inword:", 
      "        if s in cons:", 
      "           inword[inword.index(s)] = s + 'o' + s", 
      "    return ''.join(inword)", 
      "print(translate('Testing'))"
     ], 
     "language": "python", 
     "outputs": [], 
     "prompt_number": 95
    }, 
    {
     "cell_type": "markdown", 
     "source": [
      "Coordinates Units Converter", 
      "----------------------------", 
      "A file has been made available containing a list of coordinates in the format \"ObjID RA(hms) Dec(dms)\".", 
      "Write a program to accept the name of the file as a command line argument and convert it into a file with", 
      "a suitable new name and having the following format \"ObjID RA(decimal degrees) Dec(decimal degrees).", 
      ""
     ]
    }, 
    {
     "cell_type": "code", 
     "collapsed": false, 
     "input": [
      "", 
      "f = open('100.txt','r')", 
      "f1 = open('100out.txt','wa')", 
      "", 
      "header= ['ObjID', 'RA(decimal degrees)', 'Dec(decimal degrees)']", 
      "", 
      "f1.writelines([str('\\t'.join(header)),'\\n'])", 
      "", 
      "for line in f.readlines()[1:]:", 
      "     newdata=[]  ", 
      "     rows=line.split('\\t')", 
      "     ra = float(rows[1])*2", 
      "     dec = float(rows[2])*2", 
      "     newdata.append(rows[0])", 
      "     newdata.append(str(ra))", 
      "     newdata.append(str(dec))", 
      "     ", 
      "     f1.writelines([str('\\t'.join(newdata)),'\\n'])   ", 
      "f.close()", 
      "f1.close()"
     ], 
     "language": "python", 
     "outputs": [], 
     "prompt_number": 93
    }, 
    {
     "cell_type": "markdown", 
     "source": [
      "Log Table Generator", 
      "--------------------", 
      "Produce a pretty (i.e. formatted) logarithmic table for the numbers 0.1, 0.2,... 10.0 which gives the logarithms for bases 2, e, and 10 to 7 digits. Hint: math.log lets you specify the base. Use \u201d%10.7f\u201d for string formatting."
     ]
    }, 
    {
     "cell_type": "code", 
     "collapsed": false, 
     "input": [
      "", 
      "import math", 
      "x1 = 0.1", 
      "step = 0.1", 
      "print \"x \\t log2 \\t ln \\t log10 \\n\"", 
      "for i in range(1,100):", 
      "       l2=math.log(x1)", 
      "       le=math.log1p(x1)", 
      "       l10=math.log10(x1)", 
      "       x1 = x1+step ", 
      "       print \"%f \\t %10.7f \\t %10.7f \\t %10.7f \\n\" %(x1, l2, le, l10)", 
      "        "
     ], 
     "language": "python", 
     "outputs": [
      {
       "output_type": "stream", 
       "stream": "stdout", 
       "text": [
        "x \t log2 \t ln \t log10 ", 
        "", 
        "0.200000 \t -2.3025851 \t  0.0953102 \t -1.0000000 ", 
        "", 
        "0.300000 \t -1.6094379 \t  0.1823216 \t -0.6989700 ", 
        "", 
        "0.400000 \t -1.2039728 \t  0.2623643 \t -0.5228787 ", 
        "", 
        "0.500000 \t -0.9162907 \t  0.3364722 \t -0.3979400 ", 
        "", 
        "0.600000 \t -0.6931472 \t  0.4054651 \t -0.3010300 ", 
        "", 
        "0.700000 \t -0.5108256 \t  0.4700036 \t -0.2218487 ", 
        "", 
        "0.800000 \t -0.3566749 \t  0.5306283 \t -0.1549020 ", 
        "", 
        "0.900000 \t -0.2231436 \t  0.5877867 \t -0.0969100 ", 
        "", 
        "1.000000 \t -0.1053605 \t  0.6418539 \t -0.0457575 ", 
        "", 
        "1.100000 \t -0.0000000 \t  0.6931472 \t -0.0000000 ", 
        "", 
        "1.200000 \t  0.0953102 \t  0.7419373 \t  0.0413927 ", 
        "", 
        "1.300000 \t  0.1823216 \t  0.7884574 \t  0.0791812 ", 
        "", 
        "1.400000 \t  0.2623643 \t  0.8329091 \t  0.1139434 ", 
        "", 
        "1.500000 \t  0.3364722 \t  0.8754687 \t  0.1461280 ", 
        "", 
        "1.600000 \t  0.4054651 \t  0.9162907 \t  0.1760913 ", 
        "", 
        "1.700000 \t  0.4700036 \t  0.9555114 \t  0.2041200 ", 
        "", 
        "1.800000 \t  0.5306283 \t  0.9932518 \t  0.2304489 ", 
        "", 
        "1.900000 \t  0.5877867 \t  1.0296194 \t  0.2552725 ", 
        "", 
        "2.000000 \t  0.6418539 \t  1.0647107 \t  0.2787536 ", 
        "", 
        "2.100000 \t  0.6931472 \t  1.0986123 \t  0.3010300 ", 
        "", 
        "2.200000 \t  0.7419373 \t  1.1314021 \t  0.3222193 ", 
        "", 
        "2.300000 \t  0.7884574 \t  1.1631508 \t  0.3424227 ", 
        "", 
        "2.400000 \t  0.8329091 \t  1.1939225 \t  0.3617278 ", 
        "", 
        "2.500000 \t  0.8754687 \t  1.2237754 \t  0.3802112 ", 
        "", 
        "2.600000 \t  0.9162907 \t  1.2527630 \t  0.3979400 ", 
        "", 
        "2.700000 \t  0.9555114 \t  1.2809338 \t  0.4149733 ", 
        "", 
        "2.800000 \t  0.9932518 \t  1.3083328 \t  0.4313638 ", 
        "", 
        "2.900000 \t  1.0296194 \t  1.3350011 \t  0.4471580 ", 
        "", 
        "3.000000 \t  1.0647107 \t  1.3609766 \t  0.4623980 ", 
        "", 
        "3.100000 \t  1.0986123 \t  1.3862944 \t  0.4771213 ", 
        "", 
        "3.200000 \t  1.1314021 \t  1.4109870 \t  0.4913617 ", 
        "", 
        "3.300000 \t  1.1631508 \t  1.4350845 \t  0.5051500 ", 
        "", 
        "3.400000 \t  1.1939225 \t  1.4586150 \t  0.5185139 ", 
        "", 
        "3.500000 \t  1.2237754 \t  1.4816045 \t  0.5314789 ", 
        "", 
        "3.600000 \t  1.2527630 \t  1.5040774 \t  0.5440680 ", 
        "", 
        "3.700000 \t  1.2809338 \t  1.5260563 \t  0.5563025 ", 
        "", 
        "3.800000 \t  1.3083328 \t  1.5475625 \t  0.5682017 ", 
        "", 
        "3.900000 \t  1.3350011 \t  1.5686159 \t  0.5797836 ", 
        "", 
        "4.000000 \t  1.3609766 \t  1.5892352 \t  0.5910646 ", 
        "", 
        "4.100000 \t  1.3862944 \t  1.6094379 \t  0.6020600 ", 
        "", 
        "4.200000 \t  1.4109870 \t  1.6292405 \t  0.6127839 ", 
        "", 
        "4.300000 \t  1.4350845 \t  1.6486586 \t  0.6232493 ", 
        "", 
        "4.400000 \t  1.4586150 \t  1.6677068 \t  0.6334685 ", 
        "", 
        "4.500000 \t  1.4816045 \t  1.6863990 \t  0.6434527 ", 
        "", 
        "4.600000 \t  1.5040774 \t  1.7047481 \t  0.6532125 ", 
        "", 
        "4.700000 \t  1.5260563 \t  1.7227666 \t  0.6627578 ", 
        "", 
        "4.800000 \t  1.5475625 \t  1.7404662 \t  0.6720979 ", 
        "", 
        "4.900000 \t  1.5686159 \t  1.7578579 \t  0.6812412 ", 
        "", 
        "5.000000 \t  1.5892352 \t  1.7749524 \t  0.6901961 ", 
        "", 
        "5.100000 \t  1.6094379 \t  1.7917595 \t  0.6989700 ", 
        "", 
        "5.200000 \t  1.6292405 \t  1.8082888 \t  0.7075702 ", 
        "", 
        "5.300000 \t  1.6486586 \t  1.8245493 \t  0.7160033 ", 
        "", 
        "5.400000 \t  1.6677068 \t  1.8405496 \t  0.7242759 ", 
        "", 
        "5.500000 \t  1.6863990 \t  1.8562980 \t  0.7323938 ", 
        "", 
        "5.600000 \t  1.7047481 \t  1.8718022 \t  0.7403627 ", 
        "", 
        "5.700000 \t  1.7227666 \t  1.8870696 \t  0.7481880 ", 
        "", 
        "5.800000 \t  1.7404662 \t  1.9021075 \t  0.7558749 ", 
        "", 
        "5.900000 \t  1.7578579 \t  1.9169226 \t  0.7634280 ", 
        "", 
        "6.000000 \t  1.7749524 \t  1.9315214 \t  0.7708520 ", 
        "", 
        "6.100000 \t  1.7917595 \t  1.9459101 \t  0.7781513 ", 
        "", 
        "6.200000 \t  1.8082888 \t  1.9600948 \t  0.7853298 ", 
        "", 
        "6.300000 \t  1.8245493 \t  1.9740810 \t  0.7923917 ", 
        "", 
        "6.400000 \t  1.8405496 \t  1.9878743 \t  0.7993405 ", 
        "", 
        "6.500000 \t  1.8562980 \t  2.0014800 \t  0.8061800 ", 
        "", 
        "6.600000 \t  1.8718022 \t  2.0149030 \t  0.8129134 ", 
        "", 
        "6.700000 \t  1.8870696 \t  2.0281482 \t  0.8195439 ", 
        "", 
        "6.800000 \t  1.9021075 \t  2.0412203 \t  0.8260748 ", 
        "", 
        "6.900000 \t  1.9169226 \t  2.0541237 \t  0.8325089 ", 
        "", 
        "7.000000 \t  1.9315214 \t  2.0668628 \t  0.8388491 ", 
        "", 
        "7.100000 \t  1.9459101 \t  2.0794415 \t  0.8450980 ", 
        "", 
        "7.200000 \t  1.9600948 \t  2.0918641 \t  0.8512583 ", 
        "", 
        "7.300000 \t  1.9740810 \t  2.1041342 \t  0.8573325 ", 
        "", 
        "7.400000 \t  1.9878743 \t  2.1162555 \t  0.8633229 ", 
        "", 
        "7.500000 \t  2.0014800 \t  2.1282317 \t  0.8692317 ", 
        "", 
        "7.600000 \t  2.0149030 \t  2.1400662 \t  0.8750613 ", 
        "", 
        "7.700000 \t  2.0281482 \t  2.1517622 \t  0.8808136 ", 
        "", 
        "7.800000 \t  2.0412203 \t  2.1633230 \t  0.8864907 ", 
        "", 
        "7.900000 \t  2.0541237 \t  2.1747517 \t  0.8920946 ", 
        "", 
        "8.000000 \t  2.0668628 \t  2.1860513 \t  0.8976271 ", 
        "", 
        "8.100000 \t  2.0794415 \t  2.1972246 \t  0.9030900 ", 
        "", 
        "8.200000 \t  2.0918641 \t  2.2082744 \t  0.9084850 ", 
        "", 
        "8.300000 \t  2.1041342 \t  2.2192035 \t  0.9138139 ", 
        "", 
        "8.400000 \t  2.1162555 \t  2.2300144 \t  0.9190781 ", 
        "", 
        "8.500000 \t  2.1282317 \t  2.2407097 \t  0.9242793 ", 
        "", 
        "8.600000 \t  2.1400662 \t  2.2512918 \t  0.9294189 ", 
        "", 
        "8.700000 \t  2.1517622 \t  2.2617631 \t  0.9344985 ", 
        "", 
        "8.800000 \t  2.1633230 \t  2.2721259 \t  0.9395193 ", 
        "", 
        "8.900000 \t  2.1747517 \t  2.2823824 \t  0.9444827 ", 
        "", 
        "9.000000 \t  2.1860513 \t  2.2925348 \t  0.9493900 ", 
        "", 
        "9.100000 \t  2.1972246 \t  2.3025851 \t  0.9542425 ", 
        "", 
        "9.200000 \t  2.2082744 \t  2.3125354 \t  0.9590414 ", 
        "", 
        "9.300000 \t  2.2192035 \t  2.3223877 \t  0.9637878 ", 
        "", 
        "9.400000 \t  2.2300144 \t  2.3321439 \t  0.9684829 ", 
        "", 
        "9.500000 \t  2.2407097 \t  2.3418058 \t  0.9731279 ", 
        "", 
        "9.600000 \t  2.2512918 \t  2.3513753 \t  0.9777236 ", 
        "", 
        "9.700000 \t  2.2617631 \t  2.3608540 \t  0.9822712 ", 
        "", 
        "9.800000 \t  2.2721259 \t  2.3702437 \t  0.9867717 ", 
        "", 
        "9.900000 \t  2.2823824 \t  2.3795461 \t  0.9912261 ", 
        "", 
        "10.000000 \t  2.2925348 \t  2.3887628 \t  0.9956352 ", 
        ""
       ]
      }
     ], 
     "prompt_number": 101
    }, 
    {
     "cell_type": "markdown", 
     "source": [
      "Python Switch Statement", 
      "------------------------", 
      "Write a program that accepts a single digit number from the user through the keyboard. Depending on whether the user enters 1, 2, 3, 4 or 5 the program must display \"NGC 4254\", \"Cygnus A\", \"Sgr A*\", \"M31\" or \"IC 51\" respectively. And yes, here is the catch. YOU ARE NOT ALLOWED to use \"if\" or any variation of it. If you get this, see if you can further extend the program to print \"BLACK HOLE\" in case a person enters anything other 1,2,3,4 or 5. Any idea why you think this assignment is called the \"Python switch statement\"."
     ]
    }, 
    {
     "cell_type": "code", 
     "collapsed": false, 
     "input": [
      "def first():", 
      "       print \"NGC 4254 \\n\"", 
      "", 
      "def second():", 
      "               print \"Cygnus A \\n\"", 
      "", 
      "def third():", 
      "               print \"Sgr A* \\n\"", 
      "               ", 
      "def fourth():", 
      "               print \"M31 \\n\"", 
      "", 
      "def fifth():", 
      "               print \"IC 51 \\n\"", 
      "", 
      "def errhandler():", 
      "               print \"BLACK HOLE\\n\"", 
      "", 
      "options={'1': first, '2': second, '3': third, '4' : fourth, '5': fifth}", 
      "#num=int(sys.argv[1])", 
      "#num = 3", 
      "options.get(str(3),errhandler)()", 
      "", 
      " "
     ], 
     "language": "python", 
     "outputs": [
      {
       "output_type": "stream", 
       "stream": "stdout", 
       "text": [
        "Sgr A* ", 
        ""
       ]
      }
     ], 
     "prompt_number": 107
    }, 
    {
     "cell_type": "markdown", 
     "source": [
      "Word Wrapper", 
      "------------", 
      "If a file is given which has arbitarily long lines. Can you write a program to word wrap the file to 80 characters? It would be lovely if the file name could be accepted as a command line argument. Further, the 80 character limit can also be accepted as a second OPTIONAL command line argument.", 
      "Optional Extensions: Try and take care of splitted words towards end of each line. Devise a strategy to handle them."
     ]
    }, 
    {
     "cell_type": "code", 
     "collapsed": false, 
     "input": [
      "", 
      "limit = 80", 
      "f = open('input.txt','r')", 
      "for line in f.readlines():", 
      "    line1 = line.split('\\n')", 
      "    newtext = ''.join(line1)", 
      "    print newtext[0:limit-1]", 
      "    "
     ], 
     "language": "python", 
     "outputs": [
      {
       "output_type": "stream", 
       "stream": "stdout", 
       "text": [
        "Noisy data is an inherent and also a predominant issue with scientific data.", 
        "Time series data are in general prone to electronic noise as well as environmen", 
        "sensor data for climate studies, seismic data and electrophysiological data"
       ]
      }
     ], 
     "prompt_number": 143
    }, 
    {
     "cell_type": "markdown", 
     "source": [
      "Word Wrapper"
     ]
    }, 
    {
     "cell_type": "code", 
     "collapsed": false, 
     "input": [
      "limit = 80", 
      "f = open('input.txt','r')", 
      "text=[]", 
      "for line in f.readlines():", 
      "    line1 = line.split(' ')", 
      "for j in range(0,10):", 
      "    print line1[j]+' '", 
      "    ", 
      "      "
     ], 
     "language": "python", 
     "outputs": [
      {
       "output_type": "stream", 
       "stream": "stdout", 
       "text": [
        "Noisy ", 
        "data ", 
        "is ", 
        "an ", 
        "inherent ", 
        "and ", 
        "also ", 
        "a ", 
        "predominant ", 
        "issue "
       ]
      }
     ], 
     "prompt_number": 174
    }, 
    {
     "cell_type": "markdown", 
     "source": [
      "Bad File Names", 
      "---------------", 
      "A whole directory of files have been given to you. Sadly, the person who created them used spaces in the file names. This is causing you a lot of inconvenience in using certain programs on them. Once and for all, you decide to end the story and rename all the files to replace spaces with underscores. Go ahead, write a program to do this. Remember, the program should be able to recurse into sub-directories.", 
      "Optional: Even apostrophes in file names is a bad idea. Can you extend the program to replace these with an underscore too?"
     ]
    }, 
    {
     "cell_type": "code", 
     "collapsed": true, 
     "input": [
      "import os ", 
      "def walkdir(dirname):", 
      "       for cur, dirs, files in os.walk(dirname):", 
      "               pref=''", 
      "               head, tail=os.path.split(cur)", 
      "               while head:", 
      "                       head, _tail = os.path.split(head)", 
      "       print(tail)", 
      "       for f in files:", 
      "                       print f.replace(' ','_')", 
      "#walkdir('.')", 
      " "
     ], 
     "language": "python", 
     "outputs": []
    }, 
    {
     "cell_type": "markdown", 
     "source": [
      "Column Addition", 
      "----------------", 
      "A file has been provided to you with two columns. Write a program to create another file which has these two columns and a third which is the sum of these two columns. The tiresome amount of coding you will do should hopefully make you appreciate the need for having specialized modules in Python for handling tables and should also make you well versed with loops and string operations."
     ]
    }, 
    {
     "cell_type": "code", 
     "collapsed": true, 
     "input": [
      "f = open('100.txt','r')", 
      "f1 = open('100out1.txt','wa')", 
      "", 
      "header= ['ObjID', 'RA(decimal degrees)', 'Dec(decimal degrees)']", 
      "", 
      "f1.writelines([str('\\t'.join(header)),'\\n'])", 
      "", 
      "for line in f.readlines()[1:]:", 
      "     newdata=[]  ", 
      "     rows=line.split('\\t')", 
      "     ra = float(rows[1])", 
      "     dec = float(rows[2])", 
      "     sum = ra + dec  ", 
      "     newdata.append(str(ra))", 
      "     newdata.append(str(dec))", 
      "     newdata.append(str(sum))", 
      "   ", 
      "     ", 
      "     f1.writelines([str('\\t'.join(newdata)),'\\n'])   ", 
      "f.close()", 
      "f1.close()"
     ], 
     "language": "python", 
     "outputs": [], 
     "prompt_number": 175
    }, 
    {
     "cell_type": "code", 
     "collapsed": true, 
     "input": [], 
     "language": "python", 
     "outputs": []
    }
   ]
  }
 ]
}
